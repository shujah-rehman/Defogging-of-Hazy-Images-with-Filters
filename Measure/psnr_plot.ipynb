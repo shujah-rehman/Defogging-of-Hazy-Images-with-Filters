{
 "cells": [
  {
   "cell_type": "code",
   "execution_count": 2,
   "metadata": {},
   "outputs": [
    {
     "data": {
      "text/html": [
       "<div>\n",
       "<style scoped>\n",
       "    .dataframe tbody tr th:only-of-type {\n",
       "        vertical-align: middle;\n",
       "    }\n",
       "\n",
       "    .dataframe tbody tr th {\n",
       "        vertical-align: top;\n",
       "    }\n",
       "\n",
       "    .dataframe thead th {\n",
       "        text-align: right;\n",
       "    }\n",
       "</style>\n",
       "<table border=\"1\" class=\"dataframe\">\n",
       "  <thead>\n",
       "    <tr style=\"text-align: right;\">\n",
       "      <th></th>\n",
       "      <th>Method 1</th>\n",
       "      <th>Method 2</th>\n",
       "      <th>Method 3</th>\n",
       "      <th>Method 4</th>\n",
       "      <th>Method 5</th>\n",
       "    </tr>\n",
       "  </thead>\n",
       "  <tbody>\n",
       "    <tr>\n",
       "      <th>Image 1</th>\n",
       "      <td>42.3867</td>\n",
       "      <td>38.1006</td>\n",
       "      <td>42.3777</td>\n",
       "      <td>42.3833</td>\n",
       "      <td>42.3866</td>\n",
       "    </tr>\n",
       "    <tr>\n",
       "      <th>Image 2</th>\n",
       "      <td>42.5024</td>\n",
       "      <td>37.0813</td>\n",
       "      <td>42.4993</td>\n",
       "      <td>42.5010</td>\n",
       "      <td>42.5018</td>\n",
       "    </tr>\n",
       "    <tr>\n",
       "      <th>Image 3</th>\n",
       "      <td>38.6749</td>\n",
       "      <td>36.9618</td>\n",
       "      <td>38.6648</td>\n",
       "      <td>38.6699</td>\n",
       "      <td>38.6733</td>\n",
       "    </tr>\n",
       "    <tr>\n",
       "      <th>Image 4</th>\n",
       "      <td>38.0597</td>\n",
       "      <td>37.4281</td>\n",
       "      <td>38.0445</td>\n",
       "      <td>38.0494</td>\n",
       "      <td>38.0590</td>\n",
       "    </tr>\n",
       "    <tr>\n",
       "      <th>Image 5</th>\n",
       "      <td>42.7119</td>\n",
       "      <td>39.0126</td>\n",
       "      <td>42.7011</td>\n",
       "      <td>42.7035</td>\n",
       "      <td>42.7116</td>\n",
       "    </tr>\n",
       "  </tbody>\n",
       "</table>\n",
       "</div>"
      ],
      "text/plain": [
       "         Method 1  Method 2  Method 3  Method 4  Method 5\n",
       "Image 1   42.3867   38.1006   42.3777   42.3833   42.3866\n",
       "Image 2   42.5024   37.0813   42.4993   42.5010   42.5018\n",
       "Image 3   38.6749   36.9618   38.6648   38.6699   38.6733\n",
       "Image 4   38.0597   37.4281   38.0445   38.0494   38.0590\n",
       "Image 5   42.7119   39.0126   42.7011   42.7035   42.7116"
      ]
     },
     "execution_count": 2,
     "metadata": {},
     "output_type": "execute_result"
    },
    {
     "data": {
      "image/png": "[encoded data removed]",
      "text/plain": [
       "<matplotlib.figure.Figure at 0x1c12e63bac8>"
      ]
     },
     "metadata": {},
     "output_type": "display_data"
    }
   ],
   "source": [
    "import pandas as pd\n",
    "\n",
    "psnr_method1 = [42.3867,42.5024,38.6749,38.0597,42.7119]\n",
    "psnr_method2 = [38.1006,37.0813,36.9618,37.4281,39.0126]\n",
    "psnr_method3= [42.3777,42.4993,38.6648,38.0445,42.7011]\n",
    "psnr_method4 = [42.3833,42.5010,38.6699,38.0494,42.7035]\n",
    "psnr_method5 = [42.3866,42.5018,38.6733,38.0590,42.7116]\n",
    "index = ['Image 1', 'Image 2', 'Image 3','Image 4', 'Image 5']\n",
    "df = pd.DataFrame({'Method 1': psnr_method1,'Method 2': psnr_method2,'Method 3': psnr_method3,'Method 4': psnr_method4,'Method 5': psnr_method5}, index=index)\n",
    "\n",
    "ax = df.plot.bar(rot=0)\n",
    "ax.set(xlabel='Image Used', ylabel='PSNR Values')\n",
    "df"
   ]
  }
 ],
 "metadata": {
  "kernelspec": {
   "display_name": "Python 3",
   "language": "python",
   "name": "python3"
  },
  "language_info": {
   "codemirror_mode": {
    "name": "ipython",
    "version": 3
   },
   "file_extension": ".py",
   "mimetype": "text/x-python",
   "name": "python",
   "nbconvert_exporter": "python",
   "pygments_lexer": "ipython3",
   "version": "3.6.4"
  }
 },
 "nbformat": 4,
 "nbformat_minor": 2
}
