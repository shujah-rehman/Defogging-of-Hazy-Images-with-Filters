{
 "cells": [
  {
   "cell_type": "code",
   "execution_count": 18,
   "metadata": {},
   "outputs": [
    {
     "data": {
      "text/html": [
       "<div>\n",
       "<style scoped>\n",
       "    .dataframe tbody tr th:only-of-type {\n",
       "        vertical-align: middle;\n",
       "    }\n",
       "\n",
       "    .dataframe tbody tr th {\n",
       "        vertical-align: top;\n",
       "    }\n",
       "\n",
       "    .dataframe thead th {\n",
       "        text-align: right;\n",
       "    }\n",
       "</style>\n",
       "<table border=\"1\" class=\"dataframe\">\n",
       "  <thead>\n",
       "    <tr style=\"text-align: right;\">\n",
       "      <th></th>\n",
       "      <th>Method 1</th>\n",
       "      <th>Method 2</th>\n",
       "      <th>Method 3</th>\n",
       "      <th>Method 4</th>\n",
       "      <th>Method 5</th>\n",
       "    </tr>\n",
       "  </thead>\n",
       "  <tbody>\n",
       "    <tr>\n",
       "      <th>Image 1</th>\n",
       "      <td>17325.0</td>\n",
       "      <td>6457.5</td>\n",
       "      <td>17289.0</td>\n",
       "      <td>17311.0</td>\n",
       "      <td>17324.0</td>\n",
       "    </tr>\n",
       "    <tr>\n",
       "      <th>Image 2</th>\n",
       "      <td>17792.0</td>\n",
       "      <td>5106.6</td>\n",
       "      <td>17780.0</td>\n",
       "      <td>17787.0</td>\n",
       "      <td>17790.0</td>\n",
       "    </tr>\n",
       "    <tr>\n",
       "      <th>Image 3</th>\n",
       "      <td>7370.3</td>\n",
       "      <td>4968.0</td>\n",
       "      <td>7353.2</td>\n",
       "      <td>7361.9</td>\n",
       "      <td>7367.7</td>\n",
       "    </tr>\n",
       "    <tr>\n",
       "      <th>Image 4</th>\n",
       "      <td>6396.9</td>\n",
       "      <td>5531.1</td>\n",
       "      <td>6374.5</td>\n",
       "      <td>6381.8</td>\n",
       "      <td>6395.8</td>\n",
       "    </tr>\n",
       "    <tr>\n",
       "      <th>Image 5</th>\n",
       "      <td>18672.0</td>\n",
       "      <td>7966.3</td>\n",
       "      <td>18626.0</td>\n",
       "      <td>18636.0</td>\n",
       "      <td>18671.0</td>\n",
       "    </tr>\n",
       "  </tbody>\n",
       "</table>\n",
       "</div>"
      ],
      "text/plain": [
       "         Method 1  Method 2  Method 3  Method 4  Method 5\n",
       "Image 1   17325.0    6457.5   17289.0   17311.0   17324.0\n",
       "Image 2   17792.0    5106.6   17780.0   17787.0   17790.0\n",
       "Image 3    7370.3    4968.0    7353.2    7361.9    7367.7\n",
       "Image 4    6396.9    5531.1    6374.5    6381.8    6395.8\n",
       "Image 5   18672.0    7966.3   18626.0   18636.0   18671.0"
      ]
     },
     "execution_count": 18,
     "metadata": {},
     "output_type": "execute_result"
    },
    {
     "data": {
      "image/png": "[encoded data removed]",
      "text/plain": [
       "<matplotlib.figure.Figure at 0x1d2d1fd8b70>"
      ]
     },
     "metadata": {},
     "output_type": "display_data"
    }
   ],
   "source": [
    "import pandas as pd\n",
    "\n",
    "mse_method1 = [1.7325e+04,1.7792e+04,7.3703e+03,6.3969e+03,1.8672e+04]\n",
    "mse_method2 = [6.4575e+03,5.1066e+03,4.9680e+03,5.5311e+03,7.9663e+03]\n",
    "mse_method3= [1.7289e+04,1.7780e+04,7.3532e+03,6.3745e+03,1.8626e+04]\n",
    "mse_method4 = [1.7311e+04,1.7787e+04,7.3619e+03,6.3818e+03,1.8636e+04]\n",
    "mse_method5 = [1.7324e+04, 1.7790e+04,7.3677e+03,6.3958e+03,1.8671e+04]\n",
    "index = ['Image 1', 'Image 2', 'Image 3','Image 4', 'Image 5']\n",
    "df = pd.DataFrame({'Method 1': mse_method1,'Method 2': mse_method2,'Method 3': mse_method3,'Method 4': mse_method4,'Method 5': mse_method5}, index=index)\n",
    "\n",
    "ax = df.plot.bar(rot=0)\n",
    "ax.set(xlabel='MSE Values', ylabel='Image Used')\n",
    "df"
   ]
  }
 ],
 "metadata": {
  "kernelspec": {
   "display_name": "Python 3",
   "language": "python",
   "name": "python3"
  },
  "language_info": {
   "codemirror_mode": {
    "name": "ipython",
    "version": 3
   },
   "file_extension": ".py",
   "mimetype": "text/x-python",
   "name": "python",
   "nbconvert_exporter": "python",
   "pygments_lexer": "ipython3",
   "version": "3.6.4"
  }
 },
 "nbformat": 4,
 "nbformat_minor": 2
}
