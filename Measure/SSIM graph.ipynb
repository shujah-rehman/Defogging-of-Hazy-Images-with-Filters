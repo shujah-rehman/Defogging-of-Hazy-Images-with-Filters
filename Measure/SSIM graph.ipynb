{
 "cells": [
  {
   "cell_type": "code",
   "execution_count": 3,
   "metadata": {},
   "outputs": [
    {
     "data": {
      "text/html": [
       "<div>\n",
       "<style scoped>\n",
       "    .dataframe tbody tr th:only-of-type {\n",
       "        vertical-align: middle;\n",
       "    }\n",
       "\n",
       "    .dataframe tbody tr th {\n",
       "        vertical-align: top;\n",
       "    }\n",
       "\n",
       "    .dataframe thead th {\n",
       "        text-align: right;\n",
       "    }\n",
       "</style>\n",
       "<table border=\"1\" class=\"dataframe\">\n",
       "  <thead>\n",
       "    <tr style=\"text-align: right;\">\n",
       "      <th></th>\n",
       "      <th>Method 1</th>\n",
       "      <th>Method 2</th>\n",
       "      <th>Method 3</th>\n",
       "      <th>Method 4</th>\n",
       "      <th>Method 5</th>\n",
       "    </tr>\n",
       "  </thead>\n",
       "  <tbody>\n",
       "    <tr>\n",
       "      <th>Image 1</th>\n",
       "      <td>0.000224</td>\n",
       "      <td>0.2882</td>\n",
       "      <td>0.000315</td>\n",
       "      <td>0.000249</td>\n",
       "      <td>0.000228</td>\n",
       "    </tr>\n",
       "    <tr>\n",
       "      <th>Image 2</th>\n",
       "      <td>0.000062</td>\n",
       "      <td>0.3963</td>\n",
       "      <td>0.000082</td>\n",
       "      <td>0.000088</td>\n",
       "      <td>0.000077</td>\n",
       "    </tr>\n",
       "    <tr>\n",
       "      <th>Image 3</th>\n",
       "      <td>0.000181</td>\n",
       "      <td>0.1900</td>\n",
       "      <td>0.000294</td>\n",
       "      <td>0.000232</td>\n",
       "      <td>0.000242</td>\n",
       "    </tr>\n",
       "    <tr>\n",
       "      <th>Image 4</th>\n",
       "      <td>0.000012</td>\n",
       "      <td>0.2292</td>\n",
       "      <td>-0.000072</td>\n",
       "      <td>0.000076</td>\n",
       "      <td>0.000021</td>\n",
       "    </tr>\n",
       "    <tr>\n",
       "      <th>Image 5</th>\n",
       "      <td>0.000026</td>\n",
       "      <td>0.2029</td>\n",
       "      <td>0.000049</td>\n",
       "      <td>0.000055</td>\n",
       "      <td>0.000036</td>\n",
       "    </tr>\n",
       "  </tbody>\n",
       "</table>\n",
       "</div>"
      ],
      "text/plain": [
       "         Method 1  Method 2  Method 3  Method 4  Method 5\n",
       "Image 1  0.000224    0.2882  0.000315  0.000249  0.000228\n",
       "Image 2  0.000062    0.3963  0.000082  0.000088  0.000077\n",
       "Image 3  0.000181    0.1900  0.000294  0.000232  0.000242\n",
       "Image 4  0.000012    0.2292 -0.000072  0.000076  0.000021\n",
       "Image 5  0.000026    0.2029  0.000049  0.000055  0.000036"
      ]
     },
     "execution_count": 3,
     "metadata": {},
     "output_type": "execute_result"
    },
    {
     "data": {
      "image/png": "[encoded data removed]",
      "text/plain": [
       "<matplotlib.figure.Figure at 0x21c0bade160>"
      ]
     },
     "metadata": {},
     "output_type": "display_data"
    }
   ],
   "source": [
    "import pandas as pd\n",
    "\n",
    "ssim_method1 = [2.2406e-04,6.1589e-05,1.8123e-04,1.2260e-05,2.5714e-05]\n",
    "ssim_method2 = [0.2882,0.3963,0.1900,0.2292, 0.2029]\n",
    "ssim_method3= [3.1490e-04,8.1894e-05,2.9412e-04,-7.2056e-05,4.9453e-05]\n",
    "ssim_method4 = [2.4926e-04,8.8418e-05,2.3232e-04,7.5869e-05,5.5316e-05]\n",
    "ssim_method5 = [2.2813e-04,7.6623e-05,2.4231e-04,2.0578e-05,3.5520e-05]\n",
    "index = ['Image 1', 'Image 2', 'Image 3','Image 4', 'Image 5']\n",
    "df = pd.DataFrame({'Method 1': ssim_method1,'Method 2': ssim_method2,'Method 3': ssim_method3,'Method 4': ssim_method4,'Method 5': ssim_method5}, index=index)\n",
    "\n",
    "ax = df.plot.bar(rot=0)\n",
    "ax.set(xlabel='Image Used', ylabel='SSIM Values')\n",
    "df"
   ]
  }
 ],
 "metadata": {
  "kernelspec": {
   "display_name": "Python 3",
   "language": "python",
   "name": "python3"
  },
  "language_info": {
   "codemirror_mode": {
    "name": "ipython",
    "version": 3
   },
   "file_extension": ".py",
   "mimetype": "text/x-python",
   "name": "python",
   "nbconvert_exporter": "python",
   "pygments_lexer": "ipython3",
   "version": "3.6.4"
  }
 },
 "nbformat": 4,
 "nbformat_minor": 2
}
